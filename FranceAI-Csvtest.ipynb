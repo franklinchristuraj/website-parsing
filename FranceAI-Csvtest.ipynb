{
 "cells": [
  {
   "cell_type": "code",
   "execution_count": 1,
   "metadata": {
    "collapsed": true
   },
   "outputs": [],
   "source": [
    "import requests\n",
    "from bs4 import BeautifulSoup\n",
    "\n",
    "url = \"https://franceisai.com/startups\"\n",
    "response = requests.get(url)\n",
    "# parse html\n",
    "page = str(BeautifulSoup(response.content, \"lxml\"))\n",
    "\n",
    "\n",
    "def getURL(page):\n",
    "    \"\"\"\n",
    "\n",
    "    :param page: html of web page (here: French startups players in Artificial Intelligence - France is AI) \n",
    "    :return: urls in that page \n",
    "    \"\"\"\n",
    "    start_link = page.find(\"href\")\n",
    "    if start_link == -1:\n",
    "        return None, 0\n",
    "    start_quote = page.find('\"', start_link)\n",
    "    end_quote = page.find('\"', start_quote + 1)\n",
    "    url = page[start_quote + 1: end_quote]\n",
    "    return url, end_quote\n",
    "\n",
    "while True:\n",
    "    url, n = getURL(page)\n",
    "    page = page[n:]\n",
    "    if url:\n",
    "        print (url, file=open(\"output.csv\", \"a\"))\n",
    "    else:\n",
    "        break\n",
    "        \n"
   ]
  }
 ],
 "metadata": {
  "kernelspec": {
   "display_name": "Python 3",
   "language": "python",
   "name": "python3"
  },
  "language_info": {
   "codemirror_mode": {
    "name": "ipython",
    "version": 3
   },
   "file_extension": ".py",
   "mimetype": "text/x-python",
   "name": "python",
   "nbconvert_exporter": "python",
   "pygments_lexer": "ipython3",
   "version": "3.6.3"
  }
 },
 "nbformat": 4,
 "nbformat_minor": 2
}
