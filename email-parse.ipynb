{
 "cells": [
  {
   "cell_type": "code",
   "execution_count": 48,
   "metadata": {
    "collapsed": true
   },
   "outputs": [],
   "source": [
    "from bs4 import BeautifulSoup\n",
    "import requests\n",
    "import requests.exceptions\n",
    "from urllib.parse import urlsplit\n",
    "from collections import deque\n",
    "import re"
   ]
  },
  {
   "cell_type": "code",
   "execution_count": 49,
   "metadata": {
    "collapsed": true
   },
   "outputs": [],
   "source": [
    "new_urls = deque(['http://sauermanngroup.com/en/contact'])"
   ]
  },
  {
   "cell_type": "code",
   "execution_count": 50,
   "metadata": {
    "collapsed": true
   },
   "outputs": [],
   "source": [
    "processed_urls = set()"
   ]
  },
  {
   "cell_type": "code",
   "execution_count": 51,
   "metadata": {
    "collapsed": true
   },
   "outputs": [],
   "source": [
    "emails = set()"
   ]
  },
  {
   "cell_type": "code",
   "execution_count": 52,
   "metadata": {
    "collapsed": true
   },
   "outputs": [],
   "source": [
    "while len(new_urls):\n",
    "    url= new_urls.popleft()\n",
    "    processed_urls.add(url)"
   ]
  },
  {
   "cell_type": "code",
   "execution_count": 53,
   "metadata": {},
   "outputs": [],
   "source": [
    "#extract base url and path to resolve relative links\n",
    "parts = urlsplit(url)\n",
    "base_url = \"{0.scheme}://{0.netloc}\".format(parts)\n",
    "path = url[:url.rfind('/')+1] if '/' in parts.path else url"
   ]
  },
  {
   "cell_type": "code",
   "execution_count": 54,
   "metadata": {},
   "outputs": [
    {
     "name": "stdout",
     "output_type": "stream",
     "text": [
      "processing http://sauermanngroup.com/en/contact\n"
     ]
    }
   ],
   "source": [
    "# get url's content\n",
    "print(\"processing %s\" % url)\n",
    "try:\n",
    "    response = requests.get(url)\n",
    "except(requests.exceptions.MissingSchema, requests.exceptions.ConnectionError):\n",
    "    #ignore pages with errors\n",
    "    Continue"
   ]
  },
  {
   "cell_type": "code",
   "execution_count": 55,
   "metadata": {
    "collapsed": true
   },
   "outputs": [],
   "source": [
    "#extract all email addresses and add them into the resulting set\n",
    "new_emails = set(re.findall(r\"[a-z0-9\\.\\-+_]+@[a-z0-9\\.\\-+_]+\\.[a-z]+\", response.text, re.I))\n",
    "emails.update(new_emails)"
   ]
  },
  {
   "cell_type": "code",
   "execution_count": 56,
   "metadata": {},
   "outputs": [],
   "source": [
    "# create a beautiful Soup for the html document\n",
    "soup = BeautifulSoup(response.text, \"lxml\")"
   ]
  },
  {
   "cell_type": "code",
   "execution_count": 57,
   "metadata": {},
   "outputs": [],
   "source": [
    "#Find and process all the anchors in the documents\n",
    "for anchor in soup.find_all(\"a\"):\n",
    "    #extract link url from the anchor\n",
    "    link = anchor.attrs[\"href\"] if \"href\" in anchor.attrs else ''"
   ]
  },
  {
   "cell_type": "code",
   "execution_count": 58,
   "metadata": {},
   "outputs": [],
   "source": [
    "#Add base url to relative links\n",
    "if link.startswith('/'):\n",
    "    link = base_url + link"
   ]
  },
  {
   "cell_type": "code",
   "execution_count": 59,
   "metadata": {},
   "outputs": [],
   "source": [
    "#Add the new url to the queue if it's of HTTP protocol, not enqueued and not processed yet\n",
    "if link.startswith('http') and not link in new_urls and not link in processed_urls:\n",
    "    new_urls.append(link)"
   ]
  },
  {
   "cell_type": "code",
   "execution_count": 60,
   "metadata": {},
   "outputs": [
    {
     "name": "stdout",
     "output_type": "stream",
     "text": [
      "{'info@sauermanngroup.com'}\n"
     ]
    }
   ],
   "source": [
    "print(new_emails)"
   ]
  },
  {
   "cell_type": "code",
   "execution_count": 62,
   "metadata": {},
   "outputs": [
    {
     "name": "stdout",
     "output_type": "stream",
     "text": [
      "http://sauermanngroup.com/en/warranty\n"
     ]
    }
   ],
   "source": [
    "print(link)"
   ]
  }
 ],
 "metadata": {
  "kernelspec": {
   "display_name": "Python 3",
   "language": "python",
   "name": "python3"
  },
  "language_info": {
   "codemirror_mode": {
    "name": "ipython",
    "version": 3
   },
   "file_extension": ".py",
   "mimetype": "text/x-python",
   "name": "python",
   "nbconvert_exporter": "python",
   "pygments_lexer": "ipython3",
   "version": "3.6.3"
  }
 },
 "nbformat": 4,
 "nbformat_minor": 2
}
